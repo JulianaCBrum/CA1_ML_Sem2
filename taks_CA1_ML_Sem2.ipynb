{
 "cells": [
  {
   "cell_type": "markdown",
   "id": "2edfa538",
   "metadata": {},
   "source": [
    "# CA 1"
   ]
  },
  {
   "cell_type": "markdown",
   "id": "26bcd12f",
   "metadata": {},
   "source": [
    "O conjunto de dados deve ter pelo menos 8.000 linhas e 10 colunas (por exemplo, o tipo de variáveis ​​pode ser\n",
    "categórico, contínuo e discreto) após a limpeza e não há limite superior. O tipo de\n",
    "pergunta(s) que você deve formular para o projeto dependerão do domínio escolhido do conjunto de dados que\n",
    "seu grupo está considerando."
   ]
  },
  {
   "cell_type": "markdown",
   "id": "b32f5c66",
   "metadata": {},
   "source": [
    "As perguntas do projeto podem ser: (esta é uma pequena amostra sugerida de perguntas, outras perguntas podem ser mais apropriado ao seu projeto) \n",
    "\n",
    "– Como medir a semelhança ou dissimilaridade entre diferentes clusters? \n",
    "\n",
    "– Qual solução de cluster você prefere e por quê? \n",
    "\n",
    "– Como analisar e investigar uma taxa de inflação para um produto específico?"
   ]
  },
  {
   "cell_type": "markdown",
   "id": "32a529d6",
   "metadata": {},
   "source": [
    "Seu grupo pode começar com uma abordagem simples para iniciar o trabalho do projeto com base nos objetivos do projeto e\n",
    "aprimore seu trabalho usando abordagens distintas. O grupo precisaria considerar as seguintes instruções\n",
    "(a - d) durante o desenvolvimento deste projeto em grupo."
   ]
  },
  {
   "cell_type": "markdown",
   "id": "16a2723d",
   "metadata": {},
   "source": [
    "a) Justificativa lógica baseada no raciocínio para a escolha específica de abordagens de aprendizado de máquina\n",
    "(supervisionado/não supervisionado) para o problema e conjunto(s) de dados escolhido(s). Justifique a justificativa para usar o\n",
    "estrutura/atividades de gerenciamento de projetos (CRISP-DM, KDD ou SEMMA).\n",
    "\n",
    "b) Modelos de aprendizado de máquina podem ser usados ​​para previsão, classificação, agrupamento e análise de séries temporais.\n",
    "Seu grupo deve planejar tentar múltiplas abordagens (pelo menos duas), com seleção de parâmetros adequada\n",
    "usando ajuste de hiperparâmetros e uma comparação entre as abordagens de modelagem escolhidas, se necessário.\n",
    "\n",
    "c) Você/seu grupo deve treinar os modelos de aprendizado de máquina, testar e validar ainda mais os modelos.\n",
    "Execute uma comparação de dois ou mais resultados de modelagem de ML usando uma visualização de tabela ou gráfico. Seu\n",
    "O grupo pode empregar métodos de redução de dimensionalidade para preparar o conjunto de dados com base no seu projeto\n",
    "requisitos.\n",
    "\n",
    "d) Dependendo da complexidade do problema, desenvolver perfis de agrupamento que descrevam claramente o\n",
    "características dos dados específicos dentro do cluster"
   ]
  },
  {
   "cell_type": "code",
   "execution_count": null,
   "id": "dc667ad1",
   "metadata": {},
   "outputs": [],
   "source": []
  }
 ],
 "metadata": {
  "kernelspec": {
   "display_name": "Python 3 (ipykernel)",
   "language": "python",
   "name": "python3"
  },
  "language_info": {
   "codemirror_mode": {
    "name": "ipython",
    "version": 3
   },
   "file_extension": ".py",
   "mimetype": "text/x-python",
   "name": "python",
   "nbconvert_exporter": "python",
   "pygments_lexer": "ipython3",
   "version": "3.9.13"
  }
 },
 "nbformat": 4,
 "nbformat_minor": 5
}
